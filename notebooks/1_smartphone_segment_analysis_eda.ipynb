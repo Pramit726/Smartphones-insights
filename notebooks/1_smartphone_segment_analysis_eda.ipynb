{
 "cells": [
  {
   "cell_type": "markdown",
   "id": "2c4ba783-cae5-4cab-b85b-5a8c89e78cfb",
   "metadata": {},
   "source": [
    "## Step 1: Segment-Wise Feature Analysis\n",
    "\n",
    "`Objective:` Understand the characteristics and variations of smartphones across budget, midrange, and flagship segments.\n",
    "\n",
    "`Key Tasks:`\n",
    "\n",
    "- Define price ranges to categorize the dataset into budget, midrange, and flagship segments.\n",
    "\n",
    "- Analyze the distribution of core features (e.g., RAM, battery capacity, processor speed).\n",
    "\n",
    "- Identify price ranges for each segment and their overlaps, if any.\n",
    "\n",
    "- Compare the prevalence of advanced features (e.g., 5G, NFC, fast charging) in midrange and flagship phones.\n",
    "\n",
    "`Deliverables for Step 1:`\n",
    "\n",
    "- Average values for features like RAM, battery, processor speed per segment.\n",
    "\n",
    "- Price range distribution for budget, midrange, and flagship.\n",
    "\n",
    "- Comparative charts for feature prevalence (e.g., 5G adoption)."
   ]
  },
  {
   "cell_type": "markdown",
   "id": "495594cb-286b-4e2b-a439-fd9c638037ac",
   "metadata": {},
   "source": [
    "# Import Libraries"
   ]
  },
  {
   "cell_type": "code",
   "execution_count": 1,
   "id": "d7fce4e5-c059-4c78-8687-375f388e7ce2",
   "metadata": {},
   "outputs": [],
   "source": [
    "import os\n",
    "\n",
    "import numpy as np\n",
    "\n",
    "import pandas as pd\n",
    "\n",
    "import seaborn as sns\n",
    "\n",
    "import matplotlib.pyplot as plt\n",
    "\n",
    "from pathlib import Path\n",
    "\n",
    "from src.utils.utils import get_data, outlier_overview, export_data, prepare_segment_trends_data\n",
    "\n",
    "from src.constants.constants import FIG_SIZE"
   ]
  },
  {
   "cell_type": "code",
   "execution_count": 2,
   "id": "8bd286fb-7485-482b-a6ae-f792224950ef",
   "metadata": {},
   "outputs": [],
   "source": [
    "# Set the maximum number of columns to display\n",
    "pd.set_option('display.max_columns', None) "
   ]
  },
  {
   "cell_type": "markdown",
   "id": "fb5aa753-dfa3-4255-a894-0a4b05748961",
   "metadata": {},
   "source": [
    "# Read the Data"
   ]
  },
  {
   "cell_type": "code",
   "execution_count": 3,
   "id": "7375effa-f2a0-4d61-9d9e-3d3089bed9aa",
   "metadata": {},
   "outputs": [
    {
     "data": {
      "text/html": [
       "<div>\n",
       "<style scoped>\n",
       "    .dataframe tbody tr th:only-of-type {\n",
       "        vertical-align: middle;\n",
       "    }\n",
       "\n",
       "    .dataframe tbody tr th {\n",
       "        vertical-align: top;\n",
       "    }\n",
       "\n",
       "    .dataframe thead th {\n",
       "        text-align: right;\n",
       "    }\n",
       "</style>\n",
       "<table border=\"1\" class=\"dataframe\">\n",
       "  <thead>\n",
       "    <tr style=\"text-align: right;\">\n",
       "      <th></th>\n",
       "      <th>brand_name</th>\n",
       "      <th>model</th>\n",
       "      <th>price</th>\n",
       "      <th>rating</th>\n",
       "      <th>has_5g</th>\n",
       "      <th>has_nfc</th>\n",
       "      <th>has_ir_blaster</th>\n",
       "      <th>processor_brand</th>\n",
       "      <th>num_cores</th>\n",
       "      <th>processor_speed</th>\n",
       "      <th>battery_capacity</th>\n",
       "      <th>fast_charging_available</th>\n",
       "      <th>fast_charging</th>\n",
       "      <th>ram_capacity</th>\n",
       "      <th>internal_memory</th>\n",
       "      <th>screen_size</th>\n",
       "      <th>refresh_rate</th>\n",
       "      <th>resolution</th>\n",
       "      <th>num_rear_cameras</th>\n",
       "      <th>num_front_cameras</th>\n",
       "      <th>os</th>\n",
       "      <th>primary_camera_rear</th>\n",
       "      <th>primary_camera_front</th>\n",
       "      <th>extended_memory_available</th>\n",
       "      <th>extended_upto</th>\n",
       "    </tr>\n",
       "  </thead>\n",
       "  <tbody>\n",
       "    <tr>\n",
       "      <th>0</th>\n",
       "      <td>oneplus</td>\n",
       "      <td>OnePlus 11 5G</td>\n",
       "      <td>54999</td>\n",
       "      <td>89.0</td>\n",
       "      <td>True</td>\n",
       "      <td>True</td>\n",
       "      <td>False</td>\n",
       "      <td>snapdragon</td>\n",
       "      <td>8.0</td>\n",
       "      <td>3.2</td>\n",
       "      <td>5000.0</td>\n",
       "      <td>1</td>\n",
       "      <td>100.0</td>\n",
       "      <td>12.0</td>\n",
       "      <td>256.0</td>\n",
       "      <td>6.70</td>\n",
       "      <td>120</td>\n",
       "      <td>1440 x 3216</td>\n",
       "      <td>3</td>\n",
       "      <td>1.0</td>\n",
       "      <td>android</td>\n",
       "      <td>50.0</td>\n",
       "      <td>16.0</td>\n",
       "      <td>0</td>\n",
       "      <td>0.0</td>\n",
       "    </tr>\n",
       "    <tr>\n",
       "      <th>1</th>\n",
       "      <td>oneplus</td>\n",
       "      <td>OnePlus Nord CE 2 Lite 5G</td>\n",
       "      <td>19989</td>\n",
       "      <td>81.0</td>\n",
       "      <td>True</td>\n",
       "      <td>False</td>\n",
       "      <td>False</td>\n",
       "      <td>snapdragon</td>\n",
       "      <td>8.0</td>\n",
       "      <td>2.2</td>\n",
       "      <td>5000.0</td>\n",
       "      <td>1</td>\n",
       "      <td>33.0</td>\n",
       "      <td>6.0</td>\n",
       "      <td>128.0</td>\n",
       "      <td>6.59</td>\n",
       "      <td>120</td>\n",
       "      <td>1080 x 2412</td>\n",
       "      <td>3</td>\n",
       "      <td>1.0</td>\n",
       "      <td>android</td>\n",
       "      <td>64.0</td>\n",
       "      <td>16.0</td>\n",
       "      <td>1</td>\n",
       "      <td>1024.0</td>\n",
       "    </tr>\n",
       "    <tr>\n",
       "      <th>2</th>\n",
       "      <td>samsung</td>\n",
       "      <td>Samsung Galaxy A14 5G</td>\n",
       "      <td>16499</td>\n",
       "      <td>75.0</td>\n",
       "      <td>True</td>\n",
       "      <td>False</td>\n",
       "      <td>False</td>\n",
       "      <td>exynos</td>\n",
       "      <td>8.0</td>\n",
       "      <td>2.4</td>\n",
       "      <td>5000.0</td>\n",
       "      <td>1</td>\n",
       "      <td>15.0</td>\n",
       "      <td>4.0</td>\n",
       "      <td>64.0</td>\n",
       "      <td>6.60</td>\n",
       "      <td>90</td>\n",
       "      <td>1080 x 2408</td>\n",
       "      <td>3</td>\n",
       "      <td>1.0</td>\n",
       "      <td>android</td>\n",
       "      <td>50.0</td>\n",
       "      <td>13.0</td>\n",
       "      <td>1</td>\n",
       "      <td>1024.0</td>\n",
       "    </tr>\n",
       "    <tr>\n",
       "      <th>3</th>\n",
       "      <td>motorola</td>\n",
       "      <td>Motorola Moto G62 5G</td>\n",
       "      <td>14999</td>\n",
       "      <td>81.0</td>\n",
       "      <td>True</td>\n",
       "      <td>False</td>\n",
       "      <td>False</td>\n",
       "      <td>snapdragon</td>\n",
       "      <td>8.0</td>\n",
       "      <td>2.2</td>\n",
       "      <td>5000.0</td>\n",
       "      <td>1</td>\n",
       "      <td>NaN</td>\n",
       "      <td>6.0</td>\n",
       "      <td>128.0</td>\n",
       "      <td>6.55</td>\n",
       "      <td>120</td>\n",
       "      <td>1080 x 2400</td>\n",
       "      <td>3</td>\n",
       "      <td>1.0</td>\n",
       "      <td>android</td>\n",
       "      <td>50.0</td>\n",
       "      <td>16.0</td>\n",
       "      <td>1</td>\n",
       "      <td>1024.0</td>\n",
       "    </tr>\n",
       "    <tr>\n",
       "      <th>4</th>\n",
       "      <td>realme</td>\n",
       "      <td>Realme 10 Pro Plus</td>\n",
       "      <td>24999</td>\n",
       "      <td>82.0</td>\n",
       "      <td>True</td>\n",
       "      <td>False</td>\n",
       "      <td>False</td>\n",
       "      <td>dimensity</td>\n",
       "      <td>8.0</td>\n",
       "      <td>2.6</td>\n",
       "      <td>5000.0</td>\n",
       "      <td>1</td>\n",
       "      <td>67.0</td>\n",
       "      <td>6.0</td>\n",
       "      <td>128.0</td>\n",
       "      <td>6.70</td>\n",
       "      <td>120</td>\n",
       "      <td>1080 x 2412</td>\n",
       "      <td>3</td>\n",
       "      <td>1.0</td>\n",
       "      <td>android</td>\n",
       "      <td>108.0</td>\n",
       "      <td>16.0</td>\n",
       "      <td>0</td>\n",
       "      <td>0.0</td>\n",
       "    </tr>\n",
       "  </tbody>\n",
       "</table>\n",
       "</div>"
      ],
      "text/plain": [
       "  brand_name                      model  price  rating  has_5g  has_nfc  \\\n",
       "0    oneplus              OnePlus 11 5G  54999    89.0    True     True   \n",
       "1    oneplus  OnePlus Nord CE 2 Lite 5G  19989    81.0    True    False   \n",
       "2    samsung      Samsung Galaxy A14 5G  16499    75.0    True    False   \n",
       "3   motorola       Motorola Moto G62 5G  14999    81.0    True    False   \n",
       "4     realme         Realme 10 Pro Plus  24999    82.0    True    False   \n",
       "\n",
       "   has_ir_blaster processor_brand  num_cores  processor_speed  \\\n",
       "0           False      snapdragon        8.0              3.2   \n",
       "1           False      snapdragon        8.0              2.2   \n",
       "2           False          exynos        8.0              2.4   \n",
       "3           False      snapdragon        8.0              2.2   \n",
       "4           False       dimensity        8.0              2.6   \n",
       "\n",
       "   battery_capacity  fast_charging_available  fast_charging  ram_capacity  \\\n",
       "0            5000.0                        1          100.0          12.0   \n",
       "1            5000.0                        1           33.0           6.0   \n",
       "2            5000.0                        1           15.0           4.0   \n",
       "3            5000.0                        1            NaN           6.0   \n",
       "4            5000.0                        1           67.0           6.0   \n",
       "\n",
       "   internal_memory  screen_size  refresh_rate    resolution  num_rear_cameras  \\\n",
       "0            256.0         6.70           120  1440 x 3216                  3   \n",
       "1            128.0         6.59           120  1080 x 2412                  3   \n",
       "2             64.0         6.60            90  1080 x 2408                  3   \n",
       "3            128.0         6.55           120  1080 x 2400                  3   \n",
       "4            128.0         6.70           120  1080 x 2412                  3   \n",
       "\n",
       "   num_front_cameras       os  primary_camera_rear  primary_camera_front  \\\n",
       "0                1.0  android                 50.0                  16.0   \n",
       "1                1.0  android                 64.0                  16.0   \n",
       "2                1.0  android                 50.0                  13.0   \n",
       "3                1.0  android                 50.0                  16.0   \n",
       "4                1.0  android                108.0                  16.0   \n",
       "\n",
       "   extended_memory_available  extended_upto  \n",
       "0                          0            0.0  \n",
       "1                          1         1024.0  \n",
       "2                          1         1024.0  \n",
       "3                          1         1024.0  \n",
       "4                          0            0.0  "
      ]
     },
     "execution_count": 3,
     "metadata": {},
     "output_type": "execute_result"
    }
   ],
   "source": [
    "df = get_data(\"smartphone_cleaned_v5\", \"raw\")\n",
    "analysis_df = prepare_segment_trends_data(df)\n",
    "analysis_df.head()"
   ]
  },
  {
   "cell_type": "code",
   "execution_count": 4,
   "id": "7f5ca7f0-9d75-4942-896a-cb18c7c3875a",
   "metadata": {},
   "outputs": [
    {
     "data": {
      "image/png": "[encoded data removed]",
      "text/plain": [
       "<Figure size 1000x500 with 1 Axes>"
      ]
     },
     "metadata": {},
     "output_type": "display_data"
    },
    {
     "data": {
      "text/plain": [
       "count       976.000000\n",
       "mean      31029.820697\n",
       "std       29870.079162\n",
       "min        3499.000000\n",
       "25%       12999.000000\n",
       "50%       19990.000000\n",
       "75%       34999.000000\n",
       "max      199990.000000\n",
       "Name: price, dtype: float64"
      ]
     },
     "execution_count": 4,
     "metadata": {},
     "output_type": "execute_result"
    }
   ],
   "source": [
    "outlier_overview(dataframe= analysis_df, column_name = \"price\")"
   ]
  },
  {
   "cell_type": "code",
   "execution_count": 5,
   "id": "b26bf13b-a268-4eed-a869-a56188446a58",
   "metadata": {},
   "outputs": [
    {
     "data": {
      "text/plain": [
       "<Axes: xlabel='price', ylabel='Count'>"
      ]
     },
     "execution_count": 5,
     "metadata": {},
     "output_type": "execute_result"
    },
    {
     "data": {
      "image/png": "[encoded data removed]",
      "text/plain": [
       "<Figure size 640x480 with 1 Axes>"
      ]
     },
     "metadata": {},
     "output_type": "display_data"
    }
   ],
   "source": [
    "sns.histplot(data = analysis_df, x = \"price\", bins = 30, alpha = 0.7)"
   ]
  },
  {
   "cell_type": "code",
   "execution_count": 6,
   "id": "1ecd03ec-7d9f-4f12-8d83-e9fc9ff0753a",
   "metadata": {},
   "outputs": [
    {
     "data": {
      "text/plain": [
       "57.479508196721305"
      ]
     },
     "execution_count": 6,
     "metadata": {},
     "output_type": "execute_result"
    }
   ],
   "source": [
    "## % of smartphones priced under 23000\n",
    "\n",
    "(\n",
    "    analysis_df\n",
    "    .loc[lambda x: x['price'] <= 23000]\n",
    "    .shape[0] / len(analysis_df) * 100\n",
    ")"
   ]
  },
  {
   "cell_type": "code",
   "execution_count": 7,
   "id": "aad4e6df-aa2d-4fec-b9e0-9403a16727e8",
   "metadata": {},
   "outputs": [
    {
     "data": {
      "text/plain": [
       "26.434426229508194"
      ]
     },
     "execution_count": 7,
     "metadata": {},
     "output_type": "execute_result"
    }
   ],
   "source": [
    "# % of smartphones priced between 23,000 and 60,000\n",
    "\n",
    "(\n",
    "    analysis_df\n",
    "    .loc[lambda x: (x['price'] > 23000) & (x['price'] <= 50000)]\n",
    "    .shape[0] / len(analysis_df) * 100\n",
    ")"
   ]
  },
  {
   "cell_type": "code",
   "execution_count": 8,
   "id": "cc9c28d5-3d5e-46fd-b2c6-9cd784b5f498",
   "metadata": {},
   "outputs": [
    {
     "data": {
      "text/plain": [
       "16.08606557377049"
      ]
     },
     "execution_count": 8,
     "metadata": {},
     "output_type": "execute_result"
    }
   ],
   "source": [
    "# % of smartphones priced between above 50,000\n",
    "\n",
    "(\n",
    "    analysis_df\n",
    "    .loc[lambda x: x['price'] > 50000]\n",
    "    .shape[0] / len(analysis_df) * 100\n",
    ")"
   ]
  },
  {
   "cell_type": "code",
   "execution_count": null,
   "id": "b9a94dc5-5467-4453-b656-c6e6118ee27a",
   "metadata": {},
   "outputs": [],
   "source": []
  },
  {
   "cell_type": "code",
   "execution_count": null,
   "id": "df0b6a70-cc6b-4100-9031-5c858adb5e6d",
   "metadata": {},
   "outputs": [],
   "source": []
  },
  {
   "cell_type": "markdown",
   "id": "e4377cd2-cd52-4c35-a7dd-a98b2c51c03f",
   "metadata": {},
   "source": [
    "## Observations\n",
    "\n",
    "- The smartphone market is budget oriented with a large number of phones `(57%)` under 23,000.\n",
    "- 26% of phones are priced between between 23,000 and 50,000.\n",
    "- 16 % of phones are priced above 50,000.\n",
    "- From the peaks in the histogram the price ranges of smartphones is determined which is matching with the domain knowledge. "
   ]
  },
  {
   "cell_type": "code",
   "execution_count": null,
   "id": "62ec8ca0-0754-4d6a-a3e4-3eea4b09ea99",
   "metadata": {},
   "outputs": [],
   "source": []
  },
  {
   "cell_type": "markdown",
   "id": "6667c367-6614-4a2d-bab7-eda03140687f",
   "metadata": {},
   "source": [
    "# Actions to be taken\n",
    "\n",
    "- Divide the data into three segments based on price. "
   ]
  },
  {
   "cell_type": "code",
   "execution_count": 9,
   "id": "a291ac14-84a7-43cf-92d9-c4017b5ad5a3",
   "metadata": {},
   "outputs": [],
   "source": [
    "budget = (\n",
    "    analysis_df\n",
    "    .loc[lambda x: x['price'] <= 23000]\n",
    ")"
   ]
  },
  {
   "cell_type": "code",
   "execution_count": 10,
   "id": "bab1612a-4031-4241-8f78-5cd0724bd70f",
   "metadata": {},
   "outputs": [],
   "source": [
    "mid = (\n",
    "    analysis_df\n",
    "    .loc[lambda x: (x['price'] > 23000) & (x['price'] <= 50000)]\n",
    ")"
   ]
  },
  {
   "cell_type": "code",
   "execution_count": 11,
   "id": "fbe7c8e7-57a2-4aa4-9bf6-a9637d9ff27c",
   "metadata": {},
   "outputs": [],
   "source": [
    "premium = (\n",
    "    analysis_df\n",
    "    .loc[lambda x: x['price'] > 50000]\n",
    ")"
   ]
  },
  {
   "cell_type": "code",
   "execution_count": 12,
   "id": "ecd07d52-93c1-4f88-8bae-816bb736b565",
   "metadata": {},
   "outputs": [
    {
     "data": {
      "image/png": "[encoded data removed]",
      "text/plain": [
       "<Figure size 800x600 with 1 Axes>"
      ]
     },
     "metadata": {},
     "output_type": "display_data"
    }
   ],
   "source": [
    "# % of smartphones for each segemnt in the market   \n",
    "\n",
    "segment_counts = {\n",
    "    \"Budget\": len(budget),\n",
    "    \"Midrange\": len(mid),\n",
    "    \"Premium\": len(premium),\n",
    "}\n",
    "\n",
    "# Plot the pie chart\n",
    "plt.figure(figsize = FIG_SIZE)\n",
    "plt.pie(\n",
    "    segment_counts.values(),\n",
    "    labels = segment_counts.keys(),\n",
    "    autopct = '%1.1f%%',\n",
    "    startangle = 90,\n",
    "    colors = ['#ff9999','#66b3ff','#99ff99']  \n",
    ")\n",
    "\n",
    "plt.title(\"Proportion of Phones by Segment\")\n",
    "plt.show()"
   ]
  },
  {
   "cell_type": "code",
   "execution_count": null,
   "id": "852d4f03-4149-4dba-81d5-9fdd9602584e",
   "metadata": {},
   "outputs": [],
   "source": []
  },
  {
   "attachments": {},
   "cell_type": "markdown",
   "id": "d2fcd67b-78fc-48c5-bfc1-8446ab1c2f12",
   "metadata": {},
   "source": [
    "# Typical characteristics of smartphones in each segment"
   ]
  },
  {
   "cell_type": "code",
   "execution_count": 13,
   "id": "c0777c4a-0343-4430-af8c-952c89eed1a2",
   "metadata": {},
   "outputs": [
    {
     "data": {
      "text/plain": [
       "Index(['brand_name', 'model', 'price', 'rating', 'has_5g', 'has_nfc',\n",
       "       'has_ir_blaster', 'processor_brand', 'num_cores', 'processor_speed',\n",
       "       'battery_capacity', 'fast_charging_available', 'fast_charging',\n",
       "       'ram_capacity', 'internal_memory', 'screen_size', 'refresh_rate',\n",
       "       'resolution', 'num_rear_cameras', 'num_front_cameras', 'os',\n",
       "       'primary_camera_rear', 'primary_camera_front',\n",
       "       'extended_memory_available', 'extended_upto'],\n",
       "      dtype='object')"
      ]
     },
     "execution_count": 13,
     "metadata": {},
     "output_type": "execute_result"
    }
   ],
   "source": [
    "budget.columns"
   ]
  },
  {
   "cell_type": "code",
   "execution_count": 14,
   "id": "c452123d-fba4-4706-b540-b33fa22ba734",
   "metadata": {},
   "outputs": [
    {
     "data": {
      "text/html": [
       "<div>\n",
       "<style scoped>\n",
       "    .dataframe tbody tr th:only-of-type {\n",
       "        vertical-align: middle;\n",
       "    }\n",
       "\n",
       "    .dataframe tbody tr th {\n",
       "        vertical-align: top;\n",
       "    }\n",
       "\n",
       "    .dataframe thead th {\n",
       "        text-align: right;\n",
       "    }\n",
       "</style>\n",
       "<table border=\"1\" class=\"dataframe\">\n",
       "  <thead>\n",
       "    <tr style=\"text-align: right;\">\n",
       "      <th></th>\n",
       "      <th>Segment</th>\n",
       "      <th>ram_capacity</th>\n",
       "      <th>battery_capacity</th>\n",
       "      <th>processor_speed</th>\n",
       "    </tr>\n",
       "  </thead>\n",
       "  <tbody>\n",
       "    <tr>\n",
       "      <th>0</th>\n",
       "      <td>Budget</td>\n",
       "      <td>4.0</td>\n",
       "      <td>5000.0</td>\n",
       "      <td>2.20</td>\n",
       "    </tr>\n",
       "    <tr>\n",
       "      <th>1</th>\n",
       "      <td>Midrange</td>\n",
       "      <td>8.0</td>\n",
       "      <td>4700.0</td>\n",
       "      <td>2.84</td>\n",
       "    </tr>\n",
       "    <tr>\n",
       "      <th>2</th>\n",
       "      <td>Premium</td>\n",
       "      <td>8.0</td>\n",
       "      <td>4500.0</td>\n",
       "      <td>3.10</td>\n",
       "    </tr>\n",
       "  </tbody>\n",
       "</table>\n",
       "</div>"
      ],
      "text/plain": [
       "    Segment  ram_capacity  battery_capacity  processor_speed\n",
       "0    Budget           4.0            5000.0             2.20\n",
       "1  Midrange           8.0            4700.0             2.84\n",
       "2   Premium           8.0            4500.0             3.10"
      ]
     },
     "execution_count": 14,
     "metadata": {},
     "output_type": "execute_result"
    }
   ],
   "source": [
    "# List of features to analyze\n",
    "features = ['ram_capacity', 'battery_capacity', 'processor_speed']\n",
    "\n",
    "# Calculate averages for each feature in each segment\n",
    "segment_features = (\n",
    "    pd.concat([budget, mid, premium], keys=['Budget', 'Midrange', 'Premium'])\n",
    "    .groupby(level=0)[features]\n",
    "    .median()\n",
    "    .rename_axis('Segment')\n",
    "    .reset_index()\n",
    ")\n",
    "\n",
    "segment_features"
   ]
  },
  {
   "cell_type": "code",
   "execution_count": null,
   "id": "82309f23-558d-4f77-9536-fd8fcef21cdd",
   "metadata": {},
   "outputs": [],
   "source": []
  },
  {
   "cell_type": "code",
   "execution_count": 15,
   "id": "ec02ce51-1af7-48e4-b9ac-0b78f07f6c40",
   "metadata": {},
   "outputs": [
    {
     "data": {
      "text/html": [
       "<div>\n",
       "<style scoped>\n",
       "    .dataframe tbody tr th:only-of-type {\n",
       "        vertical-align: middle;\n",
       "    }\n",
       "\n",
       "    .dataframe tbody tr th {\n",
       "        vertical-align: top;\n",
       "    }\n",
       "\n",
       "    .dataframe thead tr th {\n",
       "        text-align: left;\n",
       "    }\n",
       "</style>\n",
       "<table border=\"1\" class=\"dataframe\">\n",
       "  <thead>\n",
       "    <tr>\n",
       "      <th></th>\n",
       "      <th>Segment</th>\n",
       "      <th colspan=\"2\" halign=\"left\">ram_capacity</th>\n",
       "      <th colspan=\"2\" halign=\"left\">battery_capacity</th>\n",
       "      <th colspan=\"2\" halign=\"left\">processor_speed</th>\n",
       "    </tr>\n",
       "    <tr>\n",
       "      <th></th>\n",
       "      <th></th>\n",
       "      <th>mean</th>\n",
       "      <th>median</th>\n",
       "      <th>mean</th>\n",
       "      <th>median</th>\n",
       "      <th>mean</th>\n",
       "      <th>median</th>\n",
       "    </tr>\n",
       "  </thead>\n",
       "  <tbody>\n",
       "    <tr>\n",
       "      <th>0</th>\n",
       "      <td>Budget</td>\n",
       "      <td>5.128342</td>\n",
       "      <td>4.0</td>\n",
       "      <td>4919.304813</td>\n",
       "      <td>5000.0</td>\n",
       "      <td>2.139855</td>\n",
       "      <td>2.20</td>\n",
       "    </tr>\n",
       "    <tr>\n",
       "      <th>1</th>\n",
       "      <td>Midrange</td>\n",
       "      <td>8.058140</td>\n",
       "      <td>8.0</td>\n",
       "      <td>4816.220472</td>\n",
       "      <td>4700.0</td>\n",
       "      <td>2.727247</td>\n",
       "      <td>2.84</td>\n",
       "    </tr>\n",
       "    <tr>\n",
       "      <th>2</th>\n",
       "      <td>Premium</td>\n",
       "      <td>9.165605</td>\n",
       "      <td>8.0</td>\n",
       "      <td>4465.820000</td>\n",
       "      <td>4500.0</td>\n",
       "      <td>3.035182</td>\n",
       "      <td>3.10</td>\n",
       "    </tr>\n",
       "  </tbody>\n",
       "</table>\n",
       "</div>"
      ],
      "text/plain": [
       "    Segment ram_capacity        battery_capacity         processor_speed  \\\n",
       "                    mean median             mean  median            mean   \n",
       "0    Budget     5.128342    4.0      4919.304813  5000.0        2.139855   \n",
       "1  Midrange     8.058140    8.0      4816.220472  4700.0        2.727247   \n",
       "2   Premium     9.165605    8.0      4465.820000  4500.0        3.035182   \n",
       "\n",
       "          \n",
       "  median  \n",
       "0   2.20  \n",
       "1   2.84  \n",
       "2   3.10  "
      ]
     },
     "execution_count": 15,
     "metadata": {},
     "output_type": "execute_result"
    }
   ],
   "source": [
    "# Create a pivot table for mean and median\n",
    "segment_features = (\n",
    "    pd.concat([budget, mid, premium], keys = ['Budget', 'Midrange', 'Premium'])\n",
    "    .groupby(level=0)[['ram_capacity', 'battery_capacity', 'processor_speed']]\n",
    "    .agg(['mean', 'median'])\n",
    ")\n",
    "\n",
    "# Reset the index and reshape for visualization\n",
    "(\n",
    "    segment_features\n",
    "    .rename_axis('Segment')\n",
    "    .reset_index()\n",
    ")"
   ]
  },
  {
   "attachments": {},
   "cell_type": "markdown",
   "id": "4bd04c8e-a43a-4f06-a69d-89eca9cecae5",
   "metadata": {},
   "source": [
    "## Observations\n",
    "\n",
    "- RAM capacity is lower in budget segment in comparison to midrange, and premium smartphones.\r",
    "- Battery capacity is highest in budget followed by midrange, and premium.\n",
    "- Processor speed is lower in budget smartphones.\n"
   ]
  },
  {
   "cell_type": "code",
   "execution_count": null,
   "id": "27f91200-cad3-4bb1-bfdc-2789346c7813",
   "metadata": {},
   "outputs": [],
   "source": []
  },
  {
   "attachments": {},
   "cell_type": "markdown",
   "id": "979fd908-98e2-4e3c-87a3-ef68e9584b18",
   "metadata": {},
   "source": [
    "# How do the features vary across segments?"
   ]
  },
  {
   "cell_type": "code",
   "execution_count": 22,
   "id": "2923ad56-66ae-45f9-9f19-d51e8b572c0d",
   "metadata": {},
   "outputs": [
    {
     "data": {
      "image/png": "[encoded data removed]",
      "text/plain": [
       "<Figure size 1000x600 with 1 Axes>"
      ]
     },
     "metadata": {},
     "output_type": "display_data"
    }
   ],
   "source": [
    "# Calculate prevalence (percentage) of features by segment\n",
    "\n",
    "feature_prevalence = (\n",
    "    pd.concat([budget, mid, premium], keys=['Budget', 'Midrange', 'Premium'], names=['Segment'])\n",
    "    .groupby(level = 0)[['fast_charging_available', 'has_5g', 'has_nfc']]\n",
    "    .mean()\n",
    "    .mul(100) \n",
    "    .reset_index() \n",
    "    .melt(id_vars = 'Segment', var_name = 'Feature', value_name = 'Prevalence (%)')\n",
    ")\n",
    "\n",
    "# Plot the prevalence\n",
    "plt.figure(figsize = (10, 6))\n",
    "ax = sns.barplot(data = feature_prevalence, x = 'Feature', y = 'Prevalence (%)', hue = 'Segment')\n",
    "plt.title(\"Feature Prevalence by Segment\")\n",
    "plt.ylabel(\"Prevalence (%)\")\n",
    "plt.xlabel(\"Feature\")\n",
    "plt.legend(title=\"Segment\")\n",
    "plt.tight_layout()\n",
    "\n",
    "# Add labels on top of the bars\n",
    "for container in ax.containers:\n",
    "    ax.bar_label(container, fmt = '%.1f%%', label_type = 'edge', fontsize = 10, padding = 3)\n",
    "\n",
    "plt.show()\n"
   ]
  },
  {
   "cell_type": "code",
   "execution_count": null,
   "id": "037a7e12-70a9-4abd-869f-bfa958fbbec4",
   "metadata": {},
   "outputs": [],
   "source": []
  },
  {
   "cell_type": "code",
   "execution_count": null,
   "id": "cc51d12c-85db-4d7a-bab1-47f88d559670",
   "metadata": {},
   "outputs": [],
   "source": []
  },
  {
   "cell_type": "code",
   "execution_count": 24,
   "id": "f647d351-ffe0-495b-bebc-48334afbb4ed",
   "metadata": {},
   "outputs": [
    {
     "data": {
      "image/png": "[encoded data removed]",
      "text/plain": [
       "<Figure size 800x600 with 1 Axes>"
      ]
     },
     "metadata": {},
     "output_type": "display_data"
    }
   ],
   "source": [
    "# Calculate averages for cameras, screen size, and refresh rate\n",
    "camera_screen_refresh = (\n",
    "    pd.concat([budget, mid, premium], keys = ['Budget', 'Midrange', 'Premium'], names = ['Segment'])\n",
    "    .groupby(level=0)[['num_rear_cameras', 'num_front_cameras', 'screen_size', 'refresh_rate']]\n",
    "    .mean()\n",
    "    .reset_index()\n",
    "    .melt(id_vars = 'Segment', var_name = 'Feature', value_name = 'Average Value')\n",
    ")\n",
    "\n",
    "# Plot the averages\n",
    "plt.figure(figsize = FIG_SIZE)\n",
    "ax = sns.barplot(data = camera_screen_refresh, x = 'Feature', y = 'Average Value', hue = 'Segment')\n",
    "plt.title(\"Average Cameras, Screen Size, and Refresh Rate by Segment\")\n",
    "plt.ylabel(\"Average Value\")\n",
    "plt.xlabel(\"Feature\")\n",
    "plt.legend(title = \"Segment\")\n",
    "plt.tight_layout()\n",
    "\n",
    "# Add labels on top of the bars\n",
    "for container in ax.containers:\n",
    "    ax.bar_label(container, fmt = '%.1f', label_type = 'edge', fontsize = 10, padding = 3)\n",
    "\n",
    "plt.show()"
   ]
  },
  {
   "cell_type": "code",
   "execution_count": null,
   "id": "ab8f83f2-e346-42be-a409-e9b02b135ea1",
   "metadata": {},
   "outputs": [],
   "source": []
  },
  {
   "cell_type": "code",
   "execution_count": null,
   "id": "c9c628da-2050-4de0-a503-c3bde8954ede",
   "metadata": {},
   "outputs": [],
   "source": []
  },
  {
   "cell_type": "markdown",
   "id": "b187aaa8-d896-4a6e-9814-ed77348b5526",
   "metadata": {},
   "source": [
    "## Observations\n",
    "\n",
    "- Fast charging prevalence is lesser in budget segment but sill comparable to the other segments.\n",
    "- 5g is very less present in budget segment only about 31%.\n",
    "- Nfc is mostly present in premium followed by mid range and very less in budget segment.\n",
    "- Refresh rate is generally lesser in budget as compared to premium and mid range."
   ]
  },
  {
   "cell_type": "code",
   "execution_count": null,
   "id": "1a7f2634-e209-4fce-8207-96ff8ca0f8c6",
   "metadata": {},
   "outputs": [],
   "source": []
  },
  {
   "cell_type": "code",
   "execution_count": null,
   "id": "c7edcb4c-e4e1-4bfe-b567-62ae7ee8f0f9",
   "metadata": {},
   "outputs": [],
   "source": []
  },
  {
   "cell_type": "code",
   "execution_count": null,
   "id": "1d8a225f-8aa7-4f80-99f2-aad1b5aa0846",
   "metadata": {},
   "outputs": [],
   "source": []
  }
 ],
 "metadata": {
  "kernelspec": {
   "display_name": "Python (mobile)",
   "language": "python",
   "name": "mobile"
  },
  "language_info": {
   "codemirror_mode": {
    "name": "ipython",
    "version": 3
   },
   "file_extension": ".py",
   "mimetype": "text/x-python",
   "name": "python",
   "nbconvert_exporter": "python",
   "pygments_lexer": "ipython3",
   "version": "3.10.0"
  }
 },
 "nbformat": 4,
 "nbformat_minor": 5
}
